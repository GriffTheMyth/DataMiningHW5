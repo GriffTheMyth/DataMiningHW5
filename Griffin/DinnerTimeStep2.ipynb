{
 "cells": [
  {
   "cell_type": "code",
   "execution_count": 54,
   "metadata": {
    "collapsed": true
   },
   "outputs": [],
   "source": [
    "import pandas as pd\n",
    "import numpy as np\n",
    "from sklearn.model_selection import cross_val_score\n",
    "from sklearn.neighbors import KNeighborsClassifier\n",
    "from sklearn.feature_extraction.text import CountVectorizer\n",
    "from sklearn.feature_extraction.text import TfidfVectorizer\n",
    "\n",
    "PATH = \"/home/gak5128/Documents/KaggleProject/\"\n",
    "df = pd.read_csv(PATH + \"train.csv\", index_col=\"RecipeId\")\n",
    "df.target = df.Target.astype('category')"
   ]
  },
  {
   "cell_type": "code",
   "execution_count": 55,
   "metadata": {},
   "outputs": [
    {
     "name": "stdout",
     "output_type": "stream",
     "text": [
      "For k = 10  mean accuracy accross folds = 0.863963663349  standard deviation across folds = 0.00910177846186\n",
      "Best k = 10 with estimated accuracy of 0.863963663349\n"
     ]
    }
   ],
   "source": [
    "bestK = None\n",
    "bestKMeanAcc = 0\n",
    "\n",
    "v = TfidfVectorizer(max_features=170, stop_words='english')\n",
    "df_x = v.fit_transform(df.Ingredients.values.astype('U')).todense()\n",
    "\n",
    "ndx=v.get_feature_names().index('chinese')\n",
    "df_x[:,ndx] = df_x[:,ndx] * 20\n",
    "\n",
    "\n",
    "ndx=v.get_feature_names().index('thai')\n",
    "df_x[:,ndx] = df_x[:,ndx] * 20\n",
    "\n",
    "ndx=v.get_feature_names().index('chopped')\n",
    "df_x[:,ndx] = df_x[:,ndx] * 0\n",
    "\n",
    "ndx=v.get_feature_names().index('crushed')\n",
    "df_x[:,ndx] = df_x[:,ndx] * 0\n",
    "\n",
    "ndx=v.get_feature_names().index('cooked')\n",
    "df_x[:,ndx] = df_x[:,ndx] * 0\n",
    "\n",
    "ndx=v.get_feature_names().index('diced')\n",
    "df_x[:,ndx] = df_x[:,ndx] * 0\n",
    "\n",
    "\n",
    "ndx=v.get_feature_names().index('sliced')\n",
    "df_x[:,ndx] = df_x[:,ndx] * 0\n",
    "\n",
    "for k in [10]:    \n",
    "    knn = KNeighborsClassifier(n_neighbors = k, weights='distance',\n",
    "                               algorithm=\"auto\")\n",
    "    scores = cross_val_score(knn, df_x, df.target, cv=15)\n",
    "\n",
    "    print(\"For k =\",k,\" mean accuracy accross folds =\",scores.mean(),\" standard deviation across folds =\",scores.std())\n",
    "    if bestK == None or scores.mean() < bestKMeanAcc:\n",
    "        bestK = k\n",
    "        bestKMeanAcc = scores.mean()\n",
    "        \n",
    "print(\"Best k =\", k,\"with estimated accuracy of\",scores.mean())"
   ]
  },
  {
   "cell_type": "code",
   "execution_count": 59,
   "metadata": {
    "collapsed": true
   },
   "outputs": [],
   "source": [
    "import pandas as pd\n",
    "import numpy as np\n",
    "from sklearn.model_selection import cross_val_score\n",
    "from sklearn.neighbors import KNeighborsClassifier\n",
    "from sklearn.feature_extraction.text import CountVectorizer \n",
    "\n",
    "PATH = \"/home/gak5128/Documents/KaggleProject/\"\n",
    "\n",
    "# Load Training Set\n",
    "dfTrain = pd.read_csv(PATH + \"train.csv\", index_col=\"RecipeId\")\n",
    "trainY = dfTrain.Target.astype('category')\n",
    "\n",
    "dfTrain = dfTrain.drop([\"Target\"],axis=1)\n",
    "df = pd.concat([dfTrain,pd.read_csv(PATH + \"test.csv\", index_col=\"RecipeId\")])"
   ]
  },
  {
   "cell_type": "code",
   "execution_count": 60,
   "metadata": {
    "collapsed": true
   },
   "outputs": [],
   "source": [
    "v = TfidfVectorizer(max_features=170, stop_words = 'english')\n",
    "df_x = v.fit_transform(df.Ingredients.values.astype('U')).todense()\n",
    "\n",
    "trainX = df_x[:len(dfTrain)]\n",
    "testX = df_x[len(dfTrain):]\n",
    "\n",
    "ndx=v.get_feature_names().index('chinese')\n",
    "df_x[:,ndx] = df_x[:,ndx] * 20\n",
    "\n",
    "ndx=v.get_feature_names().index('thai')\n",
    "df_x[:,ndx] = df_x[:,ndx] * 20\n",
    "\n",
    "ndx=v.get_feature_names().index('french')\n",
    "df_x[:,ndx] = df_x[:,ndx] * 20\n",
    "\n",
    "ndx=v.get_feature_names().index('mexican')\n",
    "df_x[:,ndx] = df_x[:,ndx] * 20\n",
    "\n",
    "ndx=v.get_feature_names().index('chopped')\n",
    "df_x[:,ndx] = df_x[:,ndx] * 0\n",
    "\n",
    "ndx=v.get_feature_names().index('crushed')\n",
    "df_x[:,ndx] = df_x[:,ndx] * 0\n",
    "\n",
    "ndx=v.get_feature_names().index('cooked')\n",
    "df_x[:,ndx] = df_x[:,ndx] * 0\n",
    "\n",
    "ndx=v.get_feature_names().index('diced')\n",
    "df_x[:,ndx] = df_x[:,ndx] * 0\n",
    "\n",
    "ndx=v.get_feature_names().index('sliced')\n",
    "df_x[:,ndx] = df_x[:,ndx] * 0"
   ]
  },
  {
   "cell_type": "code",
   "execution_count": 61,
   "metadata": {
    "collapsed": true
   },
   "outputs": [],
   "source": [
    "from sklearn.neighbors import KNeighborsClassifier\n",
    "\n",
    "knn = KNeighborsClassifier(n_neighbors=10, weights='distance', algorithm=\"auto\")\n",
    "knn.fit(trainX,trainY)\n",
    "\n",
    "predictions = knn.predict(testX)"
   ]
  },
  {
   "cell_type": "code",
   "execution_count": 62,
   "metadata": {
    "collapsed": true
   },
   "outputs": [],
   "source": [
    "submissions = pd.read_csv(PATH + \"sampleSubmission.csv\", index_col=\"RecipeId\")\n",
    "submissions.Target = predictions\n",
    "\n",
    "submissions.to_csv(PATH + \"submission.csv\")"
   ]
  },
  {
   "cell_type": "code",
   "execution_count": null,
   "metadata": {
    "collapsed": true
   },
   "outputs": [],
   "source": []
  }
 ],
 "metadata": {
  "kernelspec": {
   "display_name": "Python 3",
   "language": "python",
   "name": "python3"
  },
  "language_info": {
   "codemirror_mode": {
    "name": "ipython",
    "version": 3
   },
   "file_extension": ".py",
   "mimetype": "text/x-python",
   "name": "python",
   "nbconvert_exporter": "python",
   "pygments_lexer": "ipython3",
   "version": "3.6.1"
  }
 },
 "nbformat": 4,
 "nbformat_minor": 2
}
