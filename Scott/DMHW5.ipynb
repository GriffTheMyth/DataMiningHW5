{
 "cells": [
  {
   "cell_type": "code",
   "execution_count": 3,
   "metadata": {},
   "outputs": [
    {
     "data": {
      "text/html": [
       "<div>\n",
       "<style>\n",
       "    .dataframe thead tr:only-child th {\n",
       "        text-align: right;\n",
       "    }\n",
       "\n",
       "    .dataframe thead th {\n",
       "        text-align: left;\n",
       "    }\n",
       "\n",
       "    .dataframe tbody tr th {\n",
       "        vertical-align: top;\n",
       "    }\n",
       "</style>\n",
       "<table border=\"1\" class=\"dataframe\">\n",
       "  <thead>\n",
       "    <tr style=\"text-align: right;\">\n",
       "      <th></th>\n",
       "      <th>Target</th>\n",
       "      <th>Ingredients</th>\n",
       "    </tr>\n",
       "    <tr>\n",
       "      <th>RecipeId</th>\n",
       "      <th></th>\n",
       "      <th></th>\n",
       "    </tr>\n",
       "  </thead>\n",
       "  <tbody>\n",
       "    <tr>\n",
       "      <th>5106</th>\n",
       "      <td>7</td>\n",
       "      <td>whole kernel corn drain jalapeno chilies sour ...</td>\n",
       "    </tr>\n",
       "    <tr>\n",
       "      <th>5107</th>\n",
       "      <td>7</td>\n",
       "      <td>yellow peppers roasted red peppers green onion...</td>\n",
       "    </tr>\n",
       "    <tr>\n",
       "      <th>5108</th>\n",
       "      <td>7</td>\n",
       "      <td>avocado fresh lime juice chile powder tabasco ...</td>\n",
       "    </tr>\n",
       "    <tr>\n",
       "      <th>5109</th>\n",
       "      <td>7</td>\n",
       "      <td>black beans frozen chopped spinach frozen corn...</td>\n",
       "    </tr>\n",
       "    <tr>\n",
       "      <th>5110</th>\n",
       "      <td>1</td>\n",
       "      <td>bacon boneless beef chuck roast onions baby ca...</td>\n",
       "    </tr>\n",
       "  </tbody>\n",
       "</table>\n",
       "</div>"
      ],
      "text/plain": [
       "          Target                                        Ingredients\n",
       "RecipeId                                                           \n",
       "5106           7  whole kernel corn drain jalapeno chilies sour ...\n",
       "5107           7  yellow peppers roasted red peppers green onion...\n",
       "5108           7  avocado fresh lime juice chile powder tabasco ...\n",
       "5109           7  black beans frozen chopped spinach frozen corn...\n",
       "5110           1  bacon boneless beef chuck roast onions baby ca..."
      ]
     },
     "execution_count": 3,
     "metadata": {},
     "output_type": "execute_result"
    }
   ],
   "source": [
    "import pandas as pd\n",
    "import numpy as np\n",
    "from sklearn.feature_extraction.text import CountVectorizer \n",
    "from sklearn.feature_extraction.text import TfidfVectorizer \n",
    "\n",
    "#PATH = \"C:\\\\Users\\\\jjb24\\\\Dropbox\\\\Teaching\\\\Fall2017\\\\CMPSC 497 Data Mining\\\\Assignment 5\\\\\"\n",
    "PATH = \"C:\\\\Users\\\\NonyaBusiness\\\\PycharmProjects\\\\DataMiningHW5\\\\\"\n",
    "df = pd.read_csv(PATH + \"train.csv\", index_col=\"RecipeId\")\n",
    "df.target = df.Target.astype('category')\n",
    "df.head()"
   ]
  },
  {
   "cell_type": "code",
   "execution_count": null,
   "metadata": {
    "collapsed": true
   },
   "outputs": [],
   "source": []
  }
 ],
 "metadata": {
  "kernelspec": {
   "display_name": "Python 3",
   "language": "python",
   "name": "python3"
  },
  "language_info": {
   "codemirror_mode": {
    "name": "ipython",
    "version": 3
   },
   "file_extension": ".py",
   "mimetype": "text/x-python",
   "name": "python",
   "nbconvert_exporter": "python",
   "pygments_lexer": "ipython3",
   "version": "3.6.1"
  }
 },
 "nbformat": 4,
 "nbformat_minor": 2
}
